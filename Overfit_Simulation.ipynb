{
  "nbformat": 4,
  "nbformat_minor": 0,
  "metadata": {
    "colab": {
      "name": "Overfit.ipynb",
      "provenance": []
    },
    "kernelspec": {
      "name": "python3",
      "display_name": "Python 3"
    },
    "language_info": {
      "name": "python"
    }
  },
  "cells": [
    {
      "cell_type": "code",
      "execution_count": 24,
      "metadata": {
        "id": "Kn2T85UgZ1F2"
      },
      "outputs": [],
      "source": [
        "import pandas as pd\n",
        "import numpy as np\n",
        "import sklearn.preprocessing\n",
        "from sklearn.model_selection import train_test_split\n",
        "from sklearn.linear_model import LinearRegression\n",
        "from sklearn.metrics import mean_squared_error\n",
        "df = pd.read_csv(\"https://raw.githubusercontent.com/diogenesjusto/FIAP/master/dados/mtcars.csv\")"
      ]
    },
    {
      "cell_type": "code",
      "source": [
        "# Separação base de treino e teste\n",
        "X_train, X_test, y_train, y_test = train_test_split(df[['wt']], df['mpg'], test_size=0.25, random_state=33)\n",
        "\n",
        "# Construção do modelo de regressão Linear \n",
        "mod1 = LinearRegression()\n",
        "\n",
        "#1. mod1.fit(X_train,y_train)\n",
        "\n",
        "#2. X_train, X_test = np.log(X_train), np.log(X_test)\n",
        "#mod1.fit(X_train,y_train)\n",
        "\n",
        "poly = sklearn.preprocessing.PolynomialFeatures(15)\n",
        "X_train, X_test = poly.fit_transform(X_train), poly.fit_transform(X_test)\n",
        "\n",
        "# Constrói o modelo\n",
        "mod1.fit(X_train,y_train)\n",
        "\n",
        "# Erro em treino\n",
        "# Previsão em teste\n",
        "y_prev_train = mod1.predict(X_train)\n",
        "print(mean_squared_error(y_train, y_prev_train))\n",
        "\n",
        "# Previsão em teste\n",
        "y_prev = mod1.predict(X_test)\n",
        "# Cálculo do Erro de previsão\n",
        "print(mean_squared_error(y_test, y_prev))"
      ],
      "metadata": {
        "colab": {
          "base_uri": "https://localhost:8080/"
        },
        "id": "I3V6v0biiMby",
        "outputId": "60fb061f-dbbd-494a-973c-6420bc9d793d"
      },
      "execution_count": 29,
      "outputs": [
        {
          "output_type": "stream",
          "name": "stdout",
          "text": [
            "1.7168730314679612\n",
            "233693.46325779616\n"
          ]
        }
      ]
    }
  ]
}